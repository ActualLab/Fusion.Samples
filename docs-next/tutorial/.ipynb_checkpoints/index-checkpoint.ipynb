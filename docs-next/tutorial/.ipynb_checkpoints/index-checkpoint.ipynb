{
 "cells": [
  {
   "cell_type": "markdown",
   "id": "69ce17fd-a920-4dac-893e-d837055dd994",
   "metadata": {},
   "source": [
    "# ActualLab.Fusion Tutorial\n",
    "\n",
    "> All project updates are published on [Fusion Place]; it's also the best place for Q/A.\\\n",
    "> [![Build](https://github.com/ActualLab/Fusion/workflows/Build/badge.svg)](https://github.com/ActualLab/Fusion/actions?query=workflow%3A%22Build%22)\n",
    "> [![NuGetVersion](https://img.shields.io/nuget/v/ActualLab.Core)](https://www.nuget.org/packages?q=tags%3A%22actual_lab_fusion%22+Owner%3A%22Actual.chat%22)\n",
    "> [![Fusion Place](https://img.shields.io/badge/Fusion%20%40%20Actual%20Chat-BE145B)](https://actual.chat/chat/s-1KCdcYy9z2-uJVPKZsbEo)"
   ]
  },
  {
   "cell_type": "markdown",
   "id": "1fd45610-b8b7-4979-ae3f-a685fc122bf3",
   "metadata": {},
   "source": [
    "**We're currently converting this Tutorial to Jupyter Notebook format.**\n",
    "\n",
    "Already converted:\n",
    "- [Part 0: NuGet packages](./Part00.ipynb)\n",
    "\n",
    "To be converted:\n",
    "- <img src=\"https://img.shields.io/badge/-New!-brightgreen\" valign=\"middle\"> [Fusion Cheat Sheet](./Fusion-Cheat-Sheet.ipynb)\n",
    "- [QuickStart: Learn 80% of Fusion by walking through HelloCart sample](./QuickStart.ipynb)\n",
    "- [Part 1: Compute Services](./Part01.ipynb)\n",
    "- [Part 2: Computed Values: Computed&lt;T&gt;](./Part02.ipynb)\n",
    "- [Part 3: State: IState&lt;T&gt; and Its Flavors](./Part03.ipynb)\n",
    "- [Part 4: Compute Service Clients](./Part04.ipynb)\n",
    "- [Part 5: Fusion on Server-Side Only](./Part05.ipynb)\n",
    "- [Part 6: Real-time UI in Blazor Apps](./Part06.ipynb)\n",
    "- [Part 7: Real-time UI in JS / React Apps](./Part07.ipynb)\n",
    "- [Part 8: Scaling Fusion Services](./Part08.ipynb)\n",
    "- [Part 9: CommandR](./Part09.ipynb)\n",
    "- [Part 10: Multi-Host Invalidation and CQRS with Operations Framework](./Part10.ipynb)\n",
    "- [Part 11: Authentication in Fusion](./Part11.ipynb) \n",
    "- <img src=\"https://img.shields.io/badge/-New!-brightgreen\" valign=\"middle\"> [Part 12: ActualLab.Rpc in Fusion 6.1+](./Part12.ipynb) \n",
    "- <img src=\"https://img.shields.io/badge/-New!-brightgreen\" valign=\"middle\"> [Part 13: Migration to Fusion 6.1+](./Part13.ipynb) \n",
    "- [Epilogue](./PartFF.ipynb)\n",
    "\n",
    "Join [Fusion Place] to ask questions and track project updates.\n",
    "\n",
    "[Fusion]: https://github.com/ActualLab/Fusion\n",
    "[Fusion Place]: https://actual.chat/chat/s-1KCdcYy9z2-uJVPKZsbEo\n",
    "[Fusion Feedback Form]: https://forms.gle/TpGkmTZttukhDMRB6"
   ]
  }
 ],
 "metadata": {
  "kernelspec": {
   "display_name": "Python 3 (ipykernel)",
   "language": "python",
   "name": "python3"
  },
  "language_info": {
   "codemirror_mode": {
    "name": "ipython",
    "version": 3
   },
   "file_extension": ".py",
   "mimetype": "text/x-python",
   "name": "python",
   "nbconvert_exporter": "python",
   "pygments_lexer": "ipython3",
   "version": "3.12.7"
  }
 },
 "nbformat": 4,
 "nbformat_minor": 5
}
